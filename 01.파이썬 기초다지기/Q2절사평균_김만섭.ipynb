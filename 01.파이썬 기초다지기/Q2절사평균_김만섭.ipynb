{
 "cells": [
  {
   "cell_type": "code",
   "execution_count": 17,
   "id": "e3be5d95-a046-474b-95ca-c161b7259017",
   "metadata": {},
   "outputs": [],
   "source": [
    "import pandas as pd\n",
    "### 1. 데이터 불러오기\n",
    "csData = pd.read_csv(\"../dataset/kopo_customerdata.csv\")\n",
    "\n",
    "### 2. TOTAL_AMOUNT 컬럼 내 최소,최대값을 모두 삭제한 평균을 구하시오\n",
    "amountList = csData.TOTAL_AMOUNT.tolist()"
   ]
  },
  {
   "cell_type": "code",
   "execution_count": 24,
   "id": "7af0759e-f195-40ac-8fce-019d6ff12fdf",
   "metadata": {},
   "outputs": [
    {
     "data": {
      "text/plain": [
       "'C:\\\\Users\\\\SMT05\\\\std2024\\\\Session02 - 파이썬 기초 다지기'"
      ]
     },
     "execution_count": 24,
     "metadata": {},
     "output_type": "execute_result"
    }
   ],
   "source": [
    "pwd"
   ]
  },
  {
   "cell_type": "code",
   "execution_count": 26,
   "id": "81652d22-c877-48f9-a0f8-c11048365c98",
   "metadata": {},
   "outputs": [
    {
     "name": "stdout",
     "output_type": "stream",
     "text": [
      "35225.30167912751\n",
      "35225\n"
     ]
    }
   ],
   "source": [
    "amountListMax=max(amountList)\n",
    "\n",
    "amountList.count(amountListMax)\n",
    "\n",
    "amountListMax\n",
    "\n",
    "amountListMin=min(amountList)\n",
    "\n",
    "amountListMin\n",
    "\n",
    "amountList.count(amountListMin)\n",
    "amountList.count(amountListMin)\n",
    "\n",
    "amountList.remove(amountListMax)\n",
    "\n",
    "amountList.count(amountListMax)\n",
    "\n",
    "amountListSum = sum(amountList)\n",
    "\n",
    "amountListLen = len(amountList)-amountList.count(amountListMin) \n",
    "\n",
    "answer = amountListSum / amountListLen \n",
    "\n",
    "print(answer)\n",
    "\n",
    "print(int(answer))"
   ]
  },
  {
   "cell_type": "code",
   "execution_count": null,
   "id": "e411f6e7-1bfc-47a5-a7ff-b85e98345640",
   "metadata": {},
   "outputs": [],
   "source": [
    "# 를draw.io(오픈툴) 사용하면  bizagi(유료)"
   ]
  }
 ],
 "metadata": {
  "kernelspec": {
   "display_name": "Python 3 (ipykernel)",
   "language": "python",
   "name": "python3"
  },
  "language_info": {
   "codemirror_mode": {
    "name": "ipython",
    "version": 3
   },
   "file_extension": ".py",
   "mimetype": "text/x-python",
   "name": "python",
   "nbconvert_exporter": "python",
   "pygments_lexer": "ipython3",
   "version": "3.10.11"
  }
 },
 "nbformat": 4,
 "nbformat_minor": 5
}
