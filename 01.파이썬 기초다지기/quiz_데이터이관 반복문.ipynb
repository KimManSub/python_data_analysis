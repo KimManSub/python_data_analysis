{
 "cells": [
  {
   "cell_type": "code",
   "execution_count": 419,
   "id": "6b99f63e-6d04-4fac-b0e3-ad81e28cacde",
   "metadata": {},
   "outputs": [
    {
     "data": {
      "text/plain": [
       "'C:\\\\Users\\\\SMT05\\\\std2024\\\\Session02 - 파이썬 기초 다지기'"
      ]
     },
     "execution_count": 419,
     "metadata": {},
     "output_type": "execute_result"
    }
   ],
   "source": [
    "pwd"
   ]
  },
  {
   "cell_type": "code",
   "execution_count": 446,
   "id": "bcdb6097-ef76-4f3a-ad5a-04a17f825ce5",
   "metadata": {
    "scrolled": true
   },
   "outputs": [
    {
     "ename": "IndentationError",
     "evalue": "unindent does not match any outer indentation level (<tokenize>, line 30)",
     "output_type": "error",
     "traceback": [
      "\u001b[1;36m  File \u001b[1;32m<tokenize>:30\u001b[1;36m\u001b[0m\n\u001b[1;33m    if (fileNames[i][:12]==sortVal and fileNames[i][len(fileNames[i])-4:]==sortexe):\u001b[0m\n\u001b[1;37m    ^\u001b[0m\n\u001b[1;31mIndentationError\u001b[0m\u001b[1;31m:\u001b[0m unindent does not match any outer indentation level\n"
     ]
    }
   ],
   "source": [
    "import pandas as pd\n",
    "import os\n",
    "from datetime import datetime\n",
    "\n",
    "mainPath = \"../dataset/\"\n",
    "\n",
    "outPath = \"../dataset_out/\"\n",
    "\n",
    "sortVal= \"kopo_product\"\n",
    "\n",
    "sortexe=\".csv\"\n",
    "\n",
    "# if os.path.exists(outPath):\n",
    "#     print(f\"dataset_out 폴더가 이미 존재합니다:{dataset_out}\")\n",
    "\n",
    "# else:\n",
    "#     os.makedirs(outPath)\n",
    "#     print(f\"dataset_out 폴더가 생성되었습니다.:{dataset_out}\")\n",
    "\n",
    "os.path.exists(outPath)\n",
    "\n",
    "\n",
    "\n",
    "# 모든 파일을 다 들고 있는 리스트\n",
    "fileNames = os.listdir(mainPath)\n",
    "\n",
    "for i in range(0, len(fileNames)):\n",
    "        sortWord=len(sortVal)\n",
    "        \n",
    "    if (fileNames[i][:12]==sortVal and fileNames[i][len(fileNames[i])-4:]==sortexe):\n",
    "        # indata.read_csv(mainPath + filename)\n",
    "        indata.to_csv(outPath + filename)\n",
    "        now=datetime.now()\n",
    "        filenmame_format= \"%Y%m%d%H%M\"\n",
    "        formatted_datetime = now.strftime(filenmame_format)\n",
    "        ## 새로운 변수 이름 = f\"{파일 이름에서 csv를 떼어낸 것}_{원하는 무언가}.xxx\"\n",
    "        filename=f\"{fileNames[i][:len(fileNames[i])-4]}_{formatted_datetime}.csv\"\n",
    "        \n",
    "       \n",
    "    \n",
    "    else:\n",
    "        pass\n",
    "        \n",
    "\n"
   ]
  },
  {
   "cell_type": "markdown",
   "id": "e5f64f1d-d7f1-4d0f-90a1-4975038ca701",
   "metadata": {},
   "source": [
    "#데이터 프레임 -->모든 파일을 데이터 프레임 파일로 접근할수있다! "
   ]
  }
 ],
 "metadata": {
  "kernelspec": {
   "display_name": "Python 3 (ipykernel)",
   "language": "python",
   "name": "python3"
  },
  "language_info": {
   "codemirror_mode": {
    "name": "ipython",
    "version": 3
   },
   "file_extension": ".py",
   "mimetype": "text/x-python",
   "name": "python",
   "nbconvert_exporter": "python",
   "pygments_lexer": "ipython3",
   "version": "3.10.11"
  }
 },
 "nbformat": 4,
 "nbformat_minor": 5
}
