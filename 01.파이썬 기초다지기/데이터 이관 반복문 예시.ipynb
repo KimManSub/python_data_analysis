{
 "cells": [
  {
   "cell_type": "code",
   "execution_count": 4,
   "id": "367f253f-ddd4-40c3-bb75-774eedce3a78",
   "metadata": {},
   "outputs": [],
   "source": [
    "import pandas as pd\n",
    "import os"
   ]
  },
  {
   "cell_type": "code",
   "execution_count": 8,
   "id": "333424df-57d5-42a1-b6b9-c269dd9248bf",
   "metadata": {},
   "outputs": [],
   "source": [
    "targetFolder= \"../dataset\""
   ]
  },
  {
   "cell_type": "code",
   "execution_count": 7,
   "id": "82f8a304-53f0-48b1-a13f-805b3dc0e1b2",
   "metadata": {},
   "outputs": [
    {
     "data": {
      "text/plain": [
       "['.ipynb_checkpoints',\n",
       " 'cars.csv',\n",
       " 'customer.csv',\n",
       " 'customerdata.csv',\n",
       " 'customerdata.xlsx',\n",
       " 'customerdata_out.csv',\n",
       " 'customerdata_out.xlsx',\n",
       " 'economy.csv',\n",
       " 'feature_regression_example.csv',\n",
       " 'international-airline-passengers.csv',\n",
       " 'IRIS.csv',\n",
       " 'joindata1.csv',\n",
       " 'joindata2.csv',\n",
       " 'join_kopo_product_volume.csv',\n",
       " 'join_region_master.csv',\n",
       " 'join_region_master2.csv',\n",
       " 'kopo_channel_seasonality_new.csv',\n",
       " 'kopo_customerdata.csv',\n",
       " 'kopo_decision_tree_all_new.csv',\n",
       " 'kopo_parameter.csv',\n",
       " 'kopo_product',\n",
       " 'kopo_product_volume.csv',\n",
       " 'kopo_product_volume0.csv',\n",
       " 'kopo_product_volume2.csv',\n",
       " 'kopo_product_volume_out.csv',\n",
       " 'kopo_region_mst.csv',\n",
       " 'kopo_region_mst_hangul.csv',\n",
       " 'kopo_sales0.csv',\n",
       " 'kopo_sales2.csv',\n",
       " 'missingValue.xlsx',\n",
       " 'pima-indians-diabetes.csv',\n",
       " 'pro_actual_sales.csv',\n",
       " 'pro_promotion.csv',\n",
       " 'sample_kopo.csv',\n",
       " 'seasonality_data.csv',\n",
       " 'selloutdata_out.csv',\n",
       " 'shampoo.csv',\n",
       " 'st0001data.csv',\n",
       " 'st0002data.csv',\n",
       " 'student_middle.csv',\n",
       " 'student_middle_result.csv',\n",
       " 'student_out.csv']"
      ]
     },
     "execution_count": 7,
     "metadata": {},
     "output_type": "execute_result"
    }
   ],
   "source": [
    "os.listdir(targetFolder)"
   ]
  },
  {
   "cell_type": "code",
   "execution_count": 10,
   "id": "277b89db-aabb-4266-af4b-f7f14f88c765",
   "metadata": {},
   "outputs": [],
   "source": [
    "indata=pd.read_csv(\"../dataset/kopo_product_volume.csv\")"
   ]
  },
  {
   "cell_type": "code",
   "execution_count": 11,
   "id": "6f0e0cfe-e9e1-4f1e-8922-cdb4f78c7b64",
   "metadata": {},
   "outputs": [
    {
     "data": {
      "text/html": [
       "<div>\n",
       "<style scoped>\n",
       "    .dataframe tbody tr th:only-of-type {\n",
       "        vertical-align: middle;\n",
       "    }\n",
       "\n",
       "    .dataframe tbody tr th {\n",
       "        vertical-align: top;\n",
       "    }\n",
       "\n",
       "    .dataframe thead th {\n",
       "        text-align: right;\n",
       "    }\n",
       "</style>\n",
       "<table border=\"1\" class=\"dataframe\">\n",
       "  <thead>\n",
       "    <tr style=\"text-align: right;\">\n",
       "      <th></th>\n",
       "      <th>REGIONID</th>\n",
       "      <th>PRODUCTGROUP</th>\n",
       "      <th>YEARWEEK</th>\n",
       "      <th>VOLUME</th>\n",
       "    </tr>\n",
       "  </thead>\n",
       "  <tbody>\n",
       "    <tr>\n",
       "      <th>0</th>\n",
       "      <td>A01</td>\n",
       "      <td>ST0001</td>\n",
       "      <td>201415</td>\n",
       "      <td>810144</td>\n",
       "    </tr>\n",
       "    <tr>\n",
       "      <th>1</th>\n",
       "      <td>A01</td>\n",
       "      <td>ST0002</td>\n",
       "      <td>201415</td>\n",
       "      <td>128999</td>\n",
       "    </tr>\n",
       "  </tbody>\n",
       "</table>\n",
       "</div>"
      ],
      "text/plain": [
       "  REGIONID PRODUCTGROUP  YEARWEEK  VOLUME\n",
       "0      A01       ST0001    201415  810144\n",
       "1      A01       ST0002    201415  128999"
      ]
     },
     "execution_count": 11,
     "metadata": {},
     "output_type": "execute_result"
    }
   ],
   "source": [
    "indata.head(2)"
   ]
  },
  {
   "cell_type": "code",
   "execution_count": 12,
   "id": "c7e7548d-9fb1-435b-b936-044ef9792f6c",
   "metadata": {},
   "outputs": [],
   "source": [
    "indata.to_csv(\"./kopo_product_volume_202403250945.csv\")"
   ]
  },
  {
   "cell_type": "code",
   "execution_count": null,
   "id": "5003fe8f-7bef-4102-988b-b72d02a73417",
   "metadata": {},
   "outputs": [],
   "source": []
  }
 ],
 "metadata": {
  "kernelspec": {
   "display_name": "Python 3 (ipykernel)",
   "language": "python",
   "name": "python3"
  },
  "language_info": {
   "codemirror_mode": {
    "name": "ipython",
    "version": 3
   },
   "file_extension": ".py",
   "mimetype": "text/x-python",
   "name": "python",
   "nbconvert_exporter": "python",
   "pygments_lexer": "ipython3",
   "version": "3.10.11"
  }
 },
 "nbformat": 4,
 "nbformat_minor": 5
}
